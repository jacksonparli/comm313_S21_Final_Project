{
 "cells": [
  {
   "cell_type": "code",
   "execution_count": 1,
   "metadata": {},
   "outputs": [
    {
     "name": "stdout",
     "output_type": "stream",
     "text": [
      "Defaulting to user installation because normal site-packages is not writeable\n",
      "Collecting git+https://github.com/johnwmillr/LyricsGenius.git\n",
      "  Cloning https://github.com/johnwmillr/LyricsGenius.git to /tmp/pip-req-build-ifppk9kq\n",
      "  Running command git clone -q https://github.com/johnwmillr/LyricsGenius.git /tmp/pip-req-build-ifppk9kq\n",
      "Requirement already satisfied: beautifulsoup4>=4.6.0 in /usr/local/anaconda3/lib/python3.7/site-packages (from lyricsgenius==3.0.1) (4.6.0)\n",
      "Requirement already satisfied: requests>=2.20.0 in /usr/local/anaconda3/lib/python3.7/site-packages (from lyricsgenius==3.0.1) (2.21.0)\n",
      "Requirement already satisfied: certifi>=2017.4.17 in /usr/local/anaconda3/lib/python3.7/site-packages (from requests>=2.20.0->lyricsgenius==3.0.1) (2019.11.28)\n",
      "Requirement already satisfied: chardet<3.1.0,>=3.0.2 in /usr/local/anaconda3/lib/python3.7/site-packages (from requests>=2.20.0->lyricsgenius==3.0.1) (3.0.4)\n",
      "Requirement already satisfied: idna<2.9,>=2.5 in /usr/local/anaconda3/lib/python3.7/site-packages (from requests>=2.20.0->lyricsgenius==3.0.1) (2.8)\n",
      "Requirement already satisfied: urllib3<1.25,>=1.21.1 in /usr/local/anaconda3/lib/python3.7/site-packages (from requests>=2.20.0->lyricsgenius==3.0.1) (1.24.1)\n"
     ]
    }
   ],
   "source": [
    "!pip install git+https://github.com/johnwmillr/LyricsGenius.git"
   ]
  },
  {
   "cell_type": "code",
   "execution_count": 2,
   "metadata": {},
   "outputs": [],
   "source": [
    "import os\n",
    "%run functions.ipynb\n",
    "import pandas as pd\n",
    "import re\n",
    "import json\n",
    "import requests\n",
    "import random\n",
    "from bs4 import BeautifulSoup\n",
    "import lyricsgenius\n",
    "from collections import Counter"
   ]
  },
  {
   "cell_type": "code",
   "execution_count": 3,
   "metadata": {},
   "outputs": [],
   "source": [
    "def get_stripped_lyrics(album):\n",
    "    f = open('Lyrics_' + album.replace(\" \", \"\") + '.json')\n",
    "    album_dict = json.load(f)\n",
    "    stripped_dict = ''\n",
    "    for track in album_dict['tracks']:\n",
    "        stripped_dict += strip_section_markers(track['song']['lyrics'])\n",
    "    \n",
    "    text_file = open('../data/' + album + '_lyrics_stripped.txt', 'w')\n",
    "    text_file.write(stripped_dict)\n",
    "    text_file.close()"
   ]
  },
  {
   "cell_type": "code",
   "execution_count": 10,
   "metadata": {},
   "outputs": [
    {
     "name": "stdout",
     "output_type": "stream",
     "text": [
      "Searching for \"Charli\" by Charli XCX...\n",
      "Lyrics_Charli.json already exists. Overwrite?\n",
      "(y/n): y\n",
      "Wrote Lyrics_Charli.json.\n",
      "Searching for \"1000gecs\" by 100 gecs...\n",
      "Lyrics_1000gecs.json already exists. Overwrite?\n",
      "(y/n): y\n",
      "Wrote Lyrics_1000gecs.json.\n",
      "Searching for \"Apple\" by A. G. Cook...\n",
      "Lyrics_Apple.json already exists. Overwrite?\n",
      "(y/n): y\n",
      "Wrote Lyrics_Apple.json.\n",
      "Searching for \"Flamboyant\" by Dorian Electra...\n",
      "Lyrics_Flamboyant.json already exists. Overwrite?\n",
      "(y/n): y\n",
      "Wrote Lyrics_Flamboyant.json.\n",
      "Searching for \"Alias\" by Shygirl...\n",
      "Lyrics_ALIAS.json already exists. Overwrite?\n",
      "(y/n): y\n",
      "Wrote Lyrics_ALIAS.json.\n",
      "Searching for \"Slayyyter\" by Slayyyter...\n",
      "Lyrics_Slayyyter.json already exists. Overwrite?\n",
      "(y/n): y\n",
      "Wrote Lyrics_Slayyyter.json.\n",
      "Searching for \"Pang\" by Caroline Polachek...\n",
      "Lyrics_Pang.json already exists. Overwrite?\n",
      "(y/n): y\n",
      "Wrote Lyrics_Pang.json.\n",
      "Searching for \"Reflections\" by Hannah Diamond...\n",
      "Lyrics_Reflections.json already exists. Overwrite?\n",
      "(y/n): y\n",
      "Wrote Lyrics_Reflections.json.\n",
      "Searching for \"Product\" by SOPHIE...\n",
      "Wrote Lyrics_PRODUCT.json.\n"
     ]
    }
   ],
   "source": [
    "albums = ['Charli', '1000gecs', \"Apple\", \"Flamboyant\", \"Alias\", \"Slayyyter\", \"Pang\", \"Reflections\", \"Product\"]\n",
    "artists = ['Charli XCX', '100 gecs', \"A. G. Cook\", \"Dorian Electra\", \"Shygirl\", \"Slayyyter\", \"Caroline Polachek\", \"Hannah Diamond\", \"SOPHIE\"]\n",
    "\n",
    "MY_CLIENT_ACCESS_TOKEN='4jBeP4S_zq8vSE_JSlu1RaJWtb6X0166lJsAFugII4IzUzOuigziDSkUFVlATdOK'\n",
    "genius = lyricsgenius.Genius(MY_CLIENT_ACCESS_TOKEN)\n",
    "\n",
    "for index in range(0, len(albums)):\n",
    "    album = genius.search_album(albums[index], artists[index])\n",
    "    album.save_lyrics()\n",
    "    get_stripped_lyrics(albums[index])"
   ]
  },
  {
   "cell_type": "code",
   "execution_count": null,
   "metadata": {},
   "outputs": [],
   "source": []
  }
 ],
 "metadata": {
  "kernelspec": {
   "display_name": "Python 3",
   "language": "python",
   "name": "python3"
  },
  "language_info": {
   "codemirror_mode": {
    "name": "ipython",
    "version": 3
   },
   "file_extension": ".py",
   "mimetype": "text/x-python",
   "name": "python",
   "nbconvert_exporter": "python",
   "pygments_lexer": "ipython3",
   "version": "3.7.3"
  }
 },
 "nbformat": 4,
 "nbformat_minor": 2
}
