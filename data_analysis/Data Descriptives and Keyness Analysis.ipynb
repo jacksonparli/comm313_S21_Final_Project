{
 "cells": [
  {
   "cell_type": "markdown",
   "metadata": {},
   "source": [
    "## Data Descriptives and Keyness Analysis of Pop and Hyperpop"
   ]
  },
  {
   "cell_type": "markdown",
   "metadata": {},
   "source": [
    "This notebook creates dictionaries of lyrics for both the pop albums and the hyperpop albums. It also creates counters for both groups. First, data descriptives like most common words and length of albums is analyzed. It then uses keyness analysis on the pop and hyperpop lyrics dictionaries."
   ]
  },
  {
   "cell_type": "markdown",
   "metadata": {},
   "source": [
    "### Corpus Organization\n",
    "\n",
    "The code blocks below this one take the lyric files from the \"data\" folder and turn them into a dictionary of counters. First, it tokenizes the files, stripping stopwords and non alphanumeric symbols, then creates a dictionary of lyrics for each artist. Finally, it puts the pop artists' dictionaries in the pop dictionary, and the hyperpop artists' dictionaries in the hyperpop dictionary."
   ]
  },
  {
   "cell_type": "code",
   "execution_count": 1,
   "metadata": {},
   "outputs": [],
   "source": [
    "import os\n",
    "%run functions.ipynb\n",
    "import pandas as pd\n",
    "import re\n",
    "import json\n",
    "import requests\n",
    "import random\n",
    "from bs4 import BeautifulSoup\n",
    "import lyricsgenius\n",
    "from collections import Counter\n",
    "from nltk.corpus import stopwords"
   ]
  },
  {
   "cell_type": "code",
   "execution_count": 2,
   "metadata": {},
   "outputs": [],
   "source": [
    "albums = ['When we all fall asleep where do we go','Thank U Next', 'Cuz I love you', 'Igor', 'Norman Fucking Rockwell', 'Lover', 'Future Nostalgia', 'Chromatica', 'Beauty behind the madness', 'divide', 'Charli', '1000gecs', \"Apple\", \"Flamboyant\", \"Alias\", \"Slayyyter\", \"Pang\", \"Reflections\", \"Product\", \"GFOTYBUCKS\"]\n",
    "artists = ['Billie Eilish', 'Ariana Grande', 'Lizzo', 'Tyler the Creator', 'Lana Del Rey', 'Taylor Swift', 'Dua Lipa', 'Lady Gaga', 'the weeknd', 'ed sheeran', 'Charli XCX', '100 gecs', \"A. G. Cook\", \"Dorian Electra\", \"Shygirl\", \"Slayyyter\", \"Caroline Polachek\", \"Hannah Diamond\", \"SOPHIE\", \"GFOTY\"]\n",
    "ez_artists = ['billie', 'ariana', 'lizzo', 'tyler', 'lana', 'taylor,', 'dua', 'gaga', 'weeknd', 'ed', 'charli', 'gecs', 'ag', 'dorian', 'shygirl', 'slayyyter', 'caroline', 'hannah', 'sophie', 'gfoty']\n",
    "HYPERPOP_INDEX = 10 #Hyper pop albums start at index 10 in the list."
   ]
  },
  {
   "cell_type": "code",
   "execution_count": 3,
   "metadata": {},
   "outputs": [],
   "source": [
    "def tokenize_albums(album, hyperpop=False):\n",
    "    tmp_dir = '../data/pop/' if hyperpop == False else '../data/hyperpop/'\n",
    "    album_lyrics = tokenize(open(tmp_dir + album + '_lyrics_stripped.txt').read(), True, '\"#“.${):?-—”!,/’~;(}\\'')\n",
    "    stop_words = set(stopwords.words('english'))\n",
    "    filtered_lyrics = []\n",
    "    for lyric in album_lyrics:\n",
    "        if lyric not in stop_words:\n",
    "            filtered_lyrics.append(lyric)\n",
    "    return filtered_lyrics"
   ]
  },
  {
   "cell_type": "code",
   "execution_count": 4,
   "metadata": {},
   "outputs": [],
   "source": [
    "def counter_creator(lyrics):\n",
    "    lyrics_counter = Counter()\n",
    "    lyrics_counter.update(lyrics)\n",
    "    \n",
    "    return lyrics_counter"
   ]
  },
  {
   "cell_type": "code",
   "execution_count": 5,
   "metadata": {},
   "outputs": [],
   "source": [
    "lyrics_dict = {}\n",
    "for index in range(0, len(albums)):\n",
    "    if index < HYPERPOP_INDEX:\n",
    "        lyrics_dict[ez_artists[index]] = tokenize_albums(albums[index])\n",
    "    else:\n",
    "        lyrics_dict[ez_artists[index]] = tokenize_albums(albums[index], True)"
   ]
  },
  {
   "cell_type": "code",
   "execution_count": 6,
   "metadata": {},
   "outputs": [],
   "source": [
    "counter_dict = {}\n",
    "for key in lyrics_dict:\n",
    "    counter_dict[key] = counter_creator(lyrics_dict[key])"
   ]
  },
  {
   "cell_type": "markdown",
   "metadata": {},
   "source": [
    "### Pop Data Descriptives\n",
    "\n",
    "The code block below this one creates the pop lyrics list. It is a list of all the tokens in the pop lyrics (stripped of stopwords). It then creates a counter and prints the 10 most common words in the analyzed pop albums."
   ]
  },
  {
   "cell_type": "code",
   "execution_count": 7,
   "metadata": {},
   "outputs": [
    {
     "name": "stdout",
     "output_type": "stream",
     "text": [
      "26248\n"
     ]
    },
    {
     "data": {
      "text/plain": [
       "[('im', 678),\n",
       " ('yeah', 586),\n",
       " ('love', 539),\n",
       " ('dont', 436),\n",
       " ('know', 396),\n",
       " ('like', 390),\n",
       " ('oh', 326),\n",
       " ('got', 265),\n",
       " ('one', 234),\n",
       " ('cause', 227)]"
      ]
     },
     "execution_count": 7,
     "metadata": {},
     "output_type": "execute_result"
    }
   ],
   "source": [
    "pop_lyrics = []\n",
    "for index in range(0, HYPERPOP_INDEX):\n",
    "    pop_lyrics += lyrics_dict[ez_artists[index]]\n",
    "    \n",
    "print(len(pop_lyrics))\n",
    "\n",
    "pop_counter = counter_creator(pop_lyrics)\n",
    "pop_counter.most_common()[0:10]"
   ]
  },
  {
   "cell_type": "markdown",
   "metadata": {},
   "source": [
    "The results above are not surprising, most of them are \"filler\" words such as \"like\" or \"oh\", typical to pop music. An interesting observation is the word \"love\", which is the only word in the top 10 that has any sort of specific sentiment."
   ]
  },
  {
   "cell_type": "markdown",
   "metadata": {},
   "source": [
    "### Hyperpop Data Descriptives\n",
    "\n",
    "The code block below this one creates the hyperpop lyrics list. It is a list of all the tokens in the hyperpop lyrics (stripped of stopwords). It then creates a counter and prints the 10 most common words in the analyzed hyperpop albums."
   ]
  },
  {
   "cell_type": "code",
   "execution_count": 8,
   "metadata": {},
   "outputs": [
    {
     "name": "stdout",
     "output_type": "stream",
     "text": [
      "18247\n"
     ]
    },
    {
     "data": {
      "text/plain": [
       "[('like', 380),\n",
       " ('im', 362),\n",
       " ('yeah', 338),\n",
       " ('dont', 331),\n",
       " ('know', 324),\n",
       " ('get', 298),\n",
       " ('go', 236),\n",
       " ('oh', 226),\n",
       " ('want', 212),\n",
       " ('wanna', 209)]"
      ]
     },
     "execution_count": 8,
     "metadata": {},
     "output_type": "execute_result"
    }
   ],
   "source": [
    "hyperpop_lyrics = []\n",
    "for index in range(HYPERPOP_INDEX, len(albums)):\n",
    "    hyperpop_lyrics += lyrics_dict[ez_artists[index]]\n",
    "    \n",
    "print(len(hyperpop_lyrics))\n",
    "\n",
    "hyperpop_counter = counter_creator(hyperpop_lyrics)\n",
    "hyperpop_counter.most_common()[0:10]"
   ]
  },
  {
   "cell_type": "markdown",
   "metadata": {},
   "source": [
    "This is very interesting in comparison to the pop music top 10. For instance, the word \"love\" is not here. The words \"want\" and \"wanna\" (which express the same sentiment) appear to be the most used sentiment in this list."
   ]
  },
  {
   "cell_type": "markdown",
   "metadata": {},
   "source": [
    "### General Data Descriptives\n",
    "\n",
    "The code below creates a list of all lyrics and gives descriptives about them."
   ]
  },
  {
   "cell_type": "code",
   "execution_count": 9,
   "metadata": {},
   "outputs": [
    {
     "name": "stdout",
     "output_type": "stream",
     "text": [
      "44495\n"
     ]
    },
    {
     "data": {
      "text/plain": [
       "[('im', 1040),\n",
       " ('yeah', 924),\n",
       " ('like', 770),\n",
       " ('dont', 767),\n",
       " ('know', 720),\n",
       " ('love', 711),\n",
       " ('oh', 552),\n",
       " ('get', 472),\n",
       " ('got', 424),\n",
       " ('want', 414)]"
      ]
     },
     "execution_count": 9,
     "metadata": {},
     "output_type": "execute_result"
    }
   ],
   "source": [
    "all_lyrics = []\n",
    "all_lyrics = hyperpop_lyrics + pop_lyrics\n",
    "print(len(all_lyrics))\n",
    "\n",
    "lyrics_counter = counter_creator(all_lyrics)\n",
    "lyrics_counter.most_common()[0:10]"
   ]
  },
  {
   "cell_type": "markdown",
   "metadata": {},
   "source": [
    "### Hyperpop vs. Pop Keyness\n",
    "\n",
    "The code below analyzes words that appear more in hyperpop than in pop."
   ]
  },
  {
   "cell_type": "code",
   "execution_count": 10,
   "metadata": {
    "scrolled": false
   },
   "outputs": [
    {
     "name": "stdout",
     "output_type": "stream",
     "text": [
      "WORD                     Corpus A Freq.Corpus B Freq.Keyness\n",
      "============================================================\n",
      "body                     142       45        94.272\n",
      "get                      298       174       93.561\n",
      "let                      162       63        88.478\n",
      "close                    83        13        85.552\n",
      "going                    74        14        69.586\n",
      "hard                     83        23        61.358\n",
      "drink                    58        9         60.032\n",
      "feel                     182       109       54.617\n",
      "big                      58        11        54.469\n",
      "turn                     55        11        50.189\n",
      "go                       236       174       45.430\n",
      "money                    59        16        44.321\n",
      "youve                    49        10        44.211\n",
      "running                  60        18        41.694\n",
      "done                     53        14        40.580\n",
      "door                     37        5         40.578\n",
      "lets                     80        41        30.955\n",
      "wanna                    209       173       29.043\n",
      "make                     175       137       28.711\n",
      "phone                    32        8         25.460\n",
      "tongue                   32        8         25.460\n",
      "hit                      51        22        24.788\n",
      "pull                     28        6         24.563\n",
      "stop                     54        25        24.039\n",
      "boy                      81        50        22.983\n",
      "like                     380       390       21.803\n",
      "around                   77        50        19.775\n",
      "fuck                     95        68        19.668\n",
      "hear                     36        14        19.662\n",
      "thinking                 26        7         19.635\n",
      "made                     42        19        19.258\n",
      "want                     212       202       17.485\n",
      "back                     88        65        16.862\n",
      "click                    22        6         16.458\n",
      "youre                    207       200       16.043\n",
      "crazy                    41        21        15.878\n",
      "tears                    33        15        15.040\n",
      "beautiful                35        17        14.615\n",
      "eyes                     72        52        14.587\n",
      "stronger                 20        6         13.898\n",
      "gotta                    56        37        13.874\n",
      "things                   57        41        11.663\n",
      "hot                      18        6         11.431\n",
      "ride                     30        16        10.931\n",
      "feeling                  32        18        10.707\n",
      "fast                     25        12        10.609\n",
      "another                  50        36        10.206\n",
      "believe                  45        31        10.182\n",
      "everything               27        15        9.220\n",
      "sometimes                16        6         9.076\n"
     ]
    }
   ],
   "source": [
    "calculate_keyness(hyperpop_counter, pop_counter, top=50)"
   ]
  },
  {
   "cell_type": "markdown",
   "metadata": {},
   "source": [
    "In this keyness analysis of hyperpop vs pop, it is clear that words like \"body\", \"drink\", \"money\", \"running\", and even \"tongue\" are utilized more in hyperpop. The words \"f * ck\" and \"f * cking\" are also used more in hyperpop, which makes sense because hyperpop music rarely acheives radio play. The top couple of words also have a higher keyness than the pop vs. hyperpop keyness analysis, which tells us that they are used much more frequently in hyperpop than pop in comparison to words that are used more frequently in pop than hyperpop."
   ]
  },
  {
   "cell_type": "markdown",
   "metadata": {},
   "source": [
    "### Pop vs. Hyperpop Keyness\n",
    "\n",
    "The code below analyzes words that appear more in pop than in hyperpop."
   ]
  },
  {
   "cell_type": "code",
   "execution_count": 11,
   "metadata": {
    "scrolled": false
   },
   "outputs": [
    {
     "name": "stdout",
     "output_type": "stream",
     "text": [
      "WORD                     Corpus A Freq.Corpus B Freq.Keyness\n",
      "============================================================\n",
      "love                     539       172       88.831\n",
      "aint                     115       18        48.035\n",
      "id                       75        10        35.420\n",
      "rain                     61        8         29.143\n",
      "ima                      73        13        27.181\n",
      "bad                      96        22        27.035\n",
      "life                     98        24        25.251\n",
      "girl                     121       34        25.250\n",
      "break                    46        5         24.753\n",
      "come                     160       53        24.374\n",
      "dance                    55        8         24.361\n",
      "well                     55        8         24.361\n",
      "ill                      212       82        21.917\n",
      "cause                    227       90        21.812\n",
      "real                     86        24        18.154\n",
      "im                       678       362       16.840\n",
      "hope                     54        12        15.808\n",
      "even                     54        12        15.808\n",
      "world                    49        11        14.164\n",
      "thats                    123       46        13.969\n",
      "em                       46        10        13.831\n",
      "thought                  38        7         13.691\n",
      "find                     69        20        13.648\n",
      "light                    35        6         13.504\n",
      "one                      234       107       13.491\n",
      "home                     69        21        12.483\n",
      "save                     30        5         11.873\n",
      "ever                     78        27        10.759\n",
      "street                   31        6         10.620\n",
      "hey                      70        24        9.873\n",
      "hold                     42        11        9.811\n",
      "shit                     40        11        8.651\n",
      "head                     55        18        8.599\n",
      "end                      28        6         8.565\n",
      "heard                    35        9         8.406\n",
      "looking                  25        5         8.269\n",
      "used                     30        7         8.253\n",
      "think                    104       44        8.088\n",
      "lose                     27        6         7.904\n",
      "good                     77        30        7.794\n",
      "yeah                     586       338       7.587\n",
      "forget                   31        8         7.405\n",
      "gonna                    67        26        6.861\n"
     ]
    }
   ],
   "source": [
    "calculate_keyness(pop_counter, hyperpop_counter, top=50)"
   ]
  },
  {
   "cell_type": "markdown",
   "metadata": {},
   "source": [
    "In this keyness analysis of pop vs. hyperpop, the only word that is used much more in pop than hyperpop is \"love\". This is interesting because love is in a sense, easily contrasted with partying culture which often emphasizes the ideal of casual sex. The word \"dance\" could be considered a partying word, but it is relatively tame compared to the words \"drink\" or \"body\". It is also interesting to note that boy is utilized more in hyperpop, and girl is utilized more in pop."
   ]
  },
  {
   "cell_type": "code",
   "execution_count": null,
   "metadata": {},
   "outputs": [],
   "source": []
  },
  {
   "cell_type": "code",
   "execution_count": null,
   "metadata": {},
   "outputs": [],
   "source": []
  }
 ],
 "metadata": {
  "kernelspec": {
   "display_name": "Python 3",
   "language": "python",
   "name": "python3"
  },
  "language_info": {
   "codemirror_mode": {
    "name": "ipython",
    "version": 3
   },
   "file_extension": ".py",
   "mimetype": "text/x-python",
   "name": "python",
   "nbconvert_exporter": "python",
   "pygments_lexer": "ipython3",
   "version": "3.7.3"
  }
 },
 "nbformat": 4,
 "nbformat_minor": 2
}
