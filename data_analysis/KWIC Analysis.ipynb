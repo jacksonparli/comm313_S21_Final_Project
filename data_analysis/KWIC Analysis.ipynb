{
 "cells": [
  {
   "cell_type": "markdown",
   "metadata": {},
   "source": [
    "## KWIC Analysis of Pop and Hyperpop"
   ]
  },
  {
   "cell_type": "markdown",
   "metadata": {},
   "source": [
    "This notebook creates dictionaries of lyrics for both the pop albums and the hyperpop albums. It then uses KWIC analysis on the pop and hyperpop lyrics dictionaries based on keywords found in the keyness analysis."
   ]
  },
  {
   "cell_type": "markdown",
   "metadata": {},
   "source": [
    "### Corpus Organization\n",
    "\n",
    "The code blocks below this one take the lyric files from the \"data\" folder and turn them into a dictionary of counters. First, it tokenizes the files, stripping non alphanumeric symbols, then creates a dictionary of lyrics for each artist. Finally, it puts the pop artists' dictionaries in the pop dictionary, and the hyperpop artists' dictionaries in the hyperpop dictionary. I kept stopwords in the KWIC analysis to make it easier to understand context."
   ]
  },
  {
   "cell_type": "code",
   "execution_count": 1,
   "metadata": {},
   "outputs": [],
   "source": [
    "import os\n",
    "%run functions.ipynb\n",
    "import pandas as pd\n",
    "import re\n",
    "import json\n",
    "import requests\n",
    "import random\n",
    "from bs4 import BeautifulSoup\n",
    "import lyricsgenius\n",
    "from collections import Counter\n",
    "from nltk.corpus import stopwords"
   ]
  },
  {
   "cell_type": "code",
   "execution_count": 2,
   "metadata": {},
   "outputs": [],
   "source": [
    "albums = ['When we all fall asleep where do we go','Thank U Next', 'Cuz I love you', 'Igor', 'Norman Fucking Rockwell', 'Lover', 'Future Nostalgia', 'Chromatica', 'Beauty behind the madness', 'divide', 'Charli', '1000gecs', \"Apple\", \"Flamboyant\", \"Alias\", \"Slayyyter\", \"Pang\", \"Reflections\", \"Product\", \"GFOTYBUCKS\"]\n",
    "artists = ['Billie Eilish', 'Ariana Grande', 'Lizzo', 'Tyler the Creator', 'Lana Del Rey', 'Taylor Swift', 'Dua Lipa', 'Lady Gaga', 'the weeknd', 'ed sheeran', 'Charli XCX', '100 gecs', \"A. G. Cook\", \"Dorian Electra\", \"Shygirl\", \"Slayyyter\", \"Caroline Polachek\", \"Hannah Diamond\", \"SOPHIE\", \"GFOTY\"]\n",
    "ez_artists = ['billie', 'ariana', 'lizzo', 'tyler', 'lana', 'taylor,', 'dua', 'gaga', 'weeknd', 'ed', 'charli', 'gecs', 'ag', 'dorian', 'shygirl', 'slayyyter', 'caroline', 'hannah', 'sophie', 'gfoty']\n",
    "HYPERPOP_INDEX = 10 #Hyper pop albums start at index 10 in the list."
   ]
  },
  {
   "cell_type": "code",
   "execution_count": 3,
   "metadata": {},
   "outputs": [],
   "source": [
    "def tokenize_albums(album, hyperpop=False):\n",
    "    tmp_dir = '../data/pop/' if hyperpop == False else '../data/hyperpop/'\n",
    "    album_lyrics = tokenize(open(tmp_dir + album + '_lyrics_stripped.txt').read(), True, '\"#“.${):?-—”!,/’~;(}\\'')\n",
    "\n",
    "    return album_lyrics"
   ]
  },
  {
   "cell_type": "code",
   "execution_count": 4,
   "metadata": {},
   "outputs": [],
   "source": [
    "lyrics_dict = {}\n",
    "for index in range(0, len(albums)):\n",
    "    if index < HYPERPOP_INDEX:\n",
    "        lyrics_dict[ez_artists[index]] = tokenize_albums(albums[index])\n",
    "    else:\n",
    "        lyrics_dict[ez_artists[index]] = tokenize_albums(albums[index], True)"
   ]
  },
  {
   "cell_type": "code",
   "execution_count": 5,
   "metadata": {},
   "outputs": [],
   "source": [
    "pop_lyrics = []\n",
    "for index in range(0, HYPERPOP_INDEX):\n",
    "    pop_lyrics += lyrics_dict[ez_artists[index]]\n",
    "\n",
    "hyperpop_lyrics = []\n",
    "for index in range(HYPERPOP_INDEX, len(albums)):\n",
    "    hyperpop_lyrics += lyrics_dict[ez_artists[index]]"
   ]
  },
  {
   "cell_type": "markdown",
   "metadata": {},
   "source": [
    "### KWIC Analysis of \"Boy\"\n",
    "\n",
    "The code below does a KWIC analysis of the word \"boy\" in hyperpop and pop music. This keyword was chosen because \"boy\" occurs more in hyperpop than in pop."
   ]
  },
  {
   "cell_type": "code",
   "execution_count": 6,
   "metadata": {},
   "outputs": [
    {
     "name": "stdout",
     "output_type": "stream",
     "text": [
      "                                       boy give it all to me  boy  yeah give it all to me\n",
      "                                 will if thats what you want  boy  then you know where to find\n",
      "                  overtime yeah working overtime yeah career  boy  career boy and you know ive\n",
      "                                 hop into my pink limo sorry  boy  i got to go my publicist\n",
      "                                      my tommy give it to me  boy  you love me yeah i just\n",
      "                                    do you wanna get with me  boy  do you wanna be my eboy\n",
      "                                   feel like i feel like the  boy  the boy you know every night\n",
      "                                 will if thats what you want  boy  then you know where to find\n",
      "                             eboy kiss me through the screen  boy  give it all to me boy\n",
      "                               better if thats what you want  boy  then you know where to find\n",
      "                        grease around when you ride downtown  boy  it feels so good rev it\n",
      "                              top top yeah career boy career  boy  nothing is ever gonna make me\n",
      "                     working overtime yeah career boy career  boy  and you know ive got that\n",
      "                                  need your dough got my own  boy  im not joking thats so precious\n",
      "                             thats my superpower im a career  boy  career boy career boy you know\n",
      "                      yeah yeah everyone look at meslayyyter  boy  youre sweet like summertime knew i\n",
      "                                 club i didnt know your name  boy  i fell in love first kiss\n",
      "                                  need your dough got my own  boy  im not joking im so precious\n",
      "                                  time just send me the cash  boy  just act right if you act\n",
      "                                   you takes me up above and  boy  when i look at you oh\n"
     ]
    }
   ],
   "source": [
    "boy_pop = make_kwic('boy', pop_lyrics, win=6)\n",
    "boy_hyperpop = make_kwic('boy', hyperpop_lyrics, win=6)\n",
    "\n",
    "\n",
    "boy_pop_sample = random.sample(boy_pop,20)\n",
    "boy_hyperpop_sample = random.sample(boy_hyperpop,20)\n",
    "print_kwic(sort_kwic(boy_hyperpop_sample))"
   ]
  },
  {
   "cell_type": "code",
   "execution_count": 7,
   "metadata": {},
   "outputs": [
    {
     "name": "stdout",
     "output_type": "stream",
     "text": [
      "                                      i adore ya from a farm  boy  born near belfast town i never\n",
      "                                        im no toy for a real  boy  ooh la la ooh la la\n",
      "                             just like that fenty beauty kit  boy  you know what it is i\n",
      "                                  skrrt yeah look at you you  boy  i invented you your gucci tennis\n",
      "                                     right i want it bad bad  boy  shiny toy with a price you\n",
      "                                   oh you always let me down  boy  oh oh but when youre going\n",
      "                                 started with a mere hello a  boy  is a gunayo i wanna talk\n",
      "                                    know i love a london boy  boy  i fancy you so please show\n",
      "                                         got me by my neck a  boy  is a gun thats why i\n",
      "                               i wasnt superman just a young  boy  tryin to be loved so let\n",
      "                                with me and boy i understand  boy  i understand he got my heartbeat\n",
      "                                  hmm wanted you to grow but  boy  you wasnt budding everything you are\n",
      "                                    you know i love a london  boy  boy i fancy you ooh and\n",
      "                               something i can feel yeah but  boy  dont trip dont trip you know\n",
      "                                    you love me but you dont  boy  its just for show take it\n",
      "                              i wouldnt know never been that  boy  mama called me destructive oh yeah\n",
      "                                   be crazy dont mind me say  boy  lets not talk too much grab\n",
      "                                 started with a mere hello a  boy  is a gun no dont shoot\n",
      "                                      i love a london boy oh  boy  oh i fancy you i fancy\n",
      "                                    you know i love a london  boy  oh boy oh i fancy you\n"
     ]
    }
   ],
   "source": [
    "print_kwic(sort_kwic(boy_pop_sample))"
   ]
  },
  {
   "cell_type": "markdown",
   "metadata": {},
   "source": [
    "A distinct difference between the word \"boy\" in hyperpop and pop is that oftentimes in hyperpop, \"boy\" is used as the subject of affection in the song - such as in Slayyyter's song \"Eboy\" where she says \"kiss me through the screen boy, give it all to me boy\". \"Boy\" is sometimes used this way in pop (\"you know I love a London boy\") but is also used to refer to the person singing the song, such as in Ed Sheerans song \"Nancy Mulligan\" where he talks about being a \"farm boy born near Belfast\"."
   ]
  },
  {
   "cell_type": "markdown",
   "metadata": {},
   "source": [
    "### KWIC Analysis of \"Girl\"\n",
    "\n",
    "The code below does a KWIC analysis of the word \"girl\" in hyperpop and pop music. This keyword was chosen because \"girl\" occurs more in pop than in hyperpop."
   ]
  },
  {
   "cell_type": "code",
   "execution_count": 8,
   "metadata": {
    "scrolled": false
   },
   "outputs": [
    {
     "name": "stdout",
     "output_type": "stream",
     "text": [
      "                                      guy yeah i can bring a  girl  or i can bring a whole\n",
      "                                  the power yeah you get the  girl  when you get the money you\n",
      "                              know every night night oh girl  girl  you see my reflectioncant turn around\n",
      "                                  only for a moment with the  girl  who does just what she wants\n",
      "                                in the dark burying the good  girl  i know im not now rewind\n",
      "                                 in the city im just another  girl  in a sweater perpetual novice signature\n",
      "                                 im not tryna steal your man  girl  why dont you understand i can\n",
      "                                  you both leave me alone no  girl  im good i dont want your\n",
      "                                  now my friends all tell me  girl  youre getting skinny have you not\n",
      "                                      your man came up to me  girl  believe what you believe i dont\n",
      "                                     your mind but you got a  girl  and thats a fact then i\n",
      "                                    your man i dont want him  girl  i dont think you understand im\n",
      "                                 im not tryna steal your man  girl  why dont you understand i can\n",
      "                                   mhmm i dont want your man  girl  please im not tryna steal your\n",
      "                                  sweet no doubt im the only  girl  who can love you like i\n",
      "                               friends im better im the only  girl  for me hey fake tan dont\n",
      "                            bbbbbb bbbbff bff new message hi  girl  you know you always will be\n",
      "                             dont know whats wrong with this  girl  charli she crazy woo gotta blame\n",
      "                              steady that flow pon beat that  girl  real wet wanna come holla me\n",
      "                                 in the city im just another  girl  in a sweater back in the\n"
     ]
    }
   ],
   "source": [
    "girl_hyperpop = make_kwic('girl', hyperpop_lyrics, win=6)\n",
    "girl_pop = make_kwic('girl', pop_lyrics, win=6)\n",
    "\n",
    "\n",
    "girl_pop_sample = random.sample(girl_pop,20)\n",
    "girl_hyperpop_sample = random.sample(girl_hyperpop,20)\n",
    "\n",
    "print_kwic(sort_kwic(girl_hyperpop_sample))"
   ]
  },
  {
   "cell_type": "code",
   "execution_count": 9,
   "metadata": {},
   "outputs": [
    {
     "name": "stdout",
     "output_type": "stream",
     "text": [
      "                                       and i throw it like a  girl  yeah yeah yeah yeah yeah yeah\n",
      "                        it nanananana ohohoh yeah yeah cause  girl  youre perfect the way you work\n",
      "                                        it imma do it like a  girl  like a girl like a girl\n",
      "                                 that i write about a galway  girl  and a perfect night she played\n",
      "                            youll never find another like me  girl  there aint no i in team\n",
      "                                     well get past this im a  girl  with a whole lot of baggage\n",
      "                                   how i want it often often  girl  i do this often make that\n",
      "                            to dance my pretty little galway  girl  my my my my my my\n",
      "                                        run it run it like a  girl  i work my femininity i make\n",
      "                                       cause i run it like a  girl  yeah i run it like a\n",
      "                            to dance my pretty little galway  girl  my my my my my my\n",
      "                                      ooh ooh i stare at the  girl  in the mirror she talks to\n",
      "                                       cause i run it like a  girl  run it run it like a\n",
      "                               dance and now im singing like  girl  you know i want your love\n",
      "                                     girl like a girl like a  girl  like a girl look so if\n",
      "                            nobodys gonna love you like meee  girl  there aint no i in team\n",
      "                                         it ima do it like a  girl  like a girl like a girl\n",
      "                                       cause i run it like a  girl  run it run it like a\n",
      "                                      go and throw it like a  girl  hangin out the 750 feelin bossy\n",
      "                                   how i want it often often  girl  i do this often make that\n"
     ]
    }
   ],
   "source": [
    "print_kwic(sort_kwic(girl_pop_sample))"
   ]
  },
  {
   "cell_type": "markdown",
   "metadata": {},
   "source": [
    "The difference between utilizing \"girl\" is even more stark than using \"boy\". In hyperpop, there are virtually no objects of affection addressed towards a girl. In hyperpop, the lyrics here are all either accosting another woman (\"your man came up to me, girl, believe what you believe\") or self-referential (\"in the city I'm just another girl in a sweater\"). In pop, the word girl is used as the object of affection (\"nobody's gonna love you like me, girl\"), or self-referentially as well (\"I stare at the girl in the mirror\"). I'm also noticing that a lot of the keywords in the past two analyses have come from repetition in the same songs. For example, Dorian Electra's \"Career Boy\" appeared 4 times in the \"boy\" KWIC analysis, which is 1/5 of the whole sample."
   ]
  },
  {
   "cell_type": "markdown",
   "metadata": {},
   "source": [
    "### KWIC Analysis of \"Love\"\n",
    "\n",
    "The code below does a KWIC analysis of the word \"love\" in hyperpop and pop music. This keyword was chosen because \"love\" occurs more in pop than in hyperpop."
   ]
  },
  {
   "cell_type": "code",
   "execution_count": 10,
   "metadata": {
    "scrolled": true
   },
   "outputs": [
    {
     "name": "stdout",
     "output_type": "stream",
     "text": [
      "                                         at you oh i fall in  love  cold showers no doubt you look\n",
      "                                      my love goes on and my  love  goes on and my love goes\n",
      "                                    what do you want fall in  love  ah risk it all make me\n",
      "                                      my love goes on and my  love  goes on and my love goes\n",
      "                                    keep keep keep why do we  love  if were so mistaken keep keep\n",
      "                                    with the cool man that i  love  oh gfoty i want to get\n",
      "                                      my love goes on and my  love  goes on and my love goes\n",
      "                                      or watch a little tv i  love  it when you need me every\n",
      "                                      my love goes on and my  love  goes on and my love goes\n",
      "                                me back hate myself i really  love  you hurting you feels like im\n",
      "                                    what do you want fall in  love  ah risk it all tell me\n",
      "                                    phone and you say i need  love  can you get to me now\n",
      "                                    the water runs why do we  love  i would lay down lay down\n",
      "                               could roast you and then youd  love  it and youd text me i\n",
      "                                     man yeah but you know i  love  the chains i love the chains\n",
      "                               hair streaks youre my rock of  love  im your biker queen tell me\n",
      "                                  this good give me all your  love  and affection back at my hotel\n",
      "                             what im really thinking used to  love  that ringtone when you called me\n",
      "                                    phone and you say i need  love  can you get to me now\n",
      "                                      my love goes on and my  love  goes on and my love goes\n"
     ]
    }
   ],
   "source": [
    "love_hyperpop = make_kwic('love', hyperpop_lyrics, win=6)\n",
    "love_pop = make_kwic('love', pop_lyrics, win=6)\n",
    "\n",
    "\n",
    "love_pop_sample = random.sample(love_pop,20)\n",
    "love_hyperpop_sample = random.sample(love_hyperpop,20)\n",
    "\n",
    "print_kwic(sort_kwic(love_hyperpop_sample))"
   ]
  },
  {
   "cell_type": "code",
   "execution_count": 11,
   "metadata": {
    "scrolled": true
   },
   "outputs": [
    {
     "name": "stdout",
     "output_type": "stream",
     "text": [
      "                                   im in love love love love  love  love love in love like yeah\n",
      "                               later looks good on paper but  love  isnt easy so ill do the\n",
      "                                   in love love love love in  love  look up in the mirror like\n",
      "                                   but goddamn you got me in  love  again i used to think that\n",
      "                                  was an angel one taught me  love  one taught me patience and one\n",
      "                                      when im with you but i  love  it but i love it oh\n",
      "                                       i know how to love me  love  me i know that im always\n",
      "                       discovering something brand new im in  love  with the shape of youi found\n",
      "                                 kill it cause its killin me  love  is a drug methamphetamine dare theyll\n",
      "                                       my baby come on im in  love  with the shape of you we\n",
      "                                 in love love love love love  love  love in love im in love\n",
      "                                      ya ya ya never been in  love  before what the fuck are fucking\n",
      "                                 scream and shout for what i  love  passionate but i dont give no\n",
      "                             girl we got this relationship i  love  her so bad but she treats\n",
      "                                       i know how to love me  love  me i know that im always\n",
      "                                     to be in love when your  love  never is for me me dadadadadadada\n",
      "                                      you go am i falling in  love  with the one that could break\n",
      "                                 alone tonight you can say i  love  you through the phone tonight really\n",
      "                                  my name make me wanna make  love  to you i might break up\n",
      "                             forgot that you existed it isnt  love  it isnt hate its just indifference\n"
     ]
    }
   ],
   "source": [
    "print_kwic(sort_kwic(love_pop_sample))"
   ]
  },
  {
   "cell_type": "markdown",
   "metadata": {},
   "source": [
    "The difference between the utilization of \"love\" in pop and hyperpop is also fairly distinct. Uses of \"love\" in hyperpop are often more metaphorical or materialistic (\"I love the chains\" or \"used to love that ringtone\"). Uses of \"love\" in pop are more straightforward such as \"never been in love before\" or \"I love her so bad\"."
   ]
  },
  {
   "cell_type": "markdown",
   "metadata": {},
   "source": [
    "### KWIC Analysis of \"Like\"\n",
    "\n",
    "The code below does a KWIC analysis of the word \"like\" in hyperpop and pop music. This keyword was chosen because \"like\" occurs fairly often in both pop and hyperpop (third most common word)."
   ]
  },
  {
   "cell_type": "code",
   "execution_count": 15,
   "metadata": {},
   "outputs": [
    {
     "name": "stdout",
     "output_type": "stream",
     "text": [
      "                            like daddy like daddy like daddy  like  i really like that are you\n",
      "                              so handsy yeah it tastes sweet  like  candy yeah candy i taste like\n",
      "                                  yeah oh yeah feel so clean  like  a money machine feel so clean\n",
      "                                 day youve got me oh feeling  like  baby you know that i got\n",
      "                                 your new tattoo baby do you  like  me too i could be your\n",
      "                              hit like this youre gonna hurt  like  this you wanna live like this\n",
      "                                  the ending you know that i  like  you much more than a friends\n",
      "                                   and it weighs on my brain  like  you did i lose it all\n",
      "                            daddy like that daddy like daddy  like  daddy like daddy like daddy like\n",
      "                                the big trucks feel so clean  like  a money machine oh yeah big\n",
      "                                      yeah i get what i want  like  click they want a pic like\n",
      "                                   day you got me oh feeling  like  baby you know that i got\n",
      "                                  freak yeah i know know you  like  to hear me say it can\n",
      "                             pills but nothing seems to last  like  you youre chasing after something that\n",
      "                                   loves me god made me just  like  adam and steve and he loves\n",
      "                                      like it you know how i  like  to please yeah and i want\n",
      "                                lets kiss lets make it sound  like  lets make it hot like lets\n",
      "                                      want you i want you to  like  me want you i want you\n",
      "                            like click cheers with the glass  like  click cash register goes click you\n",
      "                               think theyre ready for real i  like  it when we kiss with a\n"
     ]
    }
   ],
   "source": [
    "like_hyperpop = make_kwic('like', hyperpop_lyrics, win=6)\n",
    "like_pop = make_kwic('like', pop_lyrics, win=6)\n",
    "\n",
    "\n",
    "like_pop_sample = random.sample(like_pop,20)\n",
    "like_hyperpop_sample = random.sample(like_hyperpop,20)\n",
    "\n",
    "print_kwic(sort_kwic(like_hyperpop_sample))"
   ]
  },
  {
   "cell_type": "code",
   "execution_count": 16,
   "metadata": {},
   "outputs": [
    {
     "name": "stdout",
     "output_type": "stream",
     "text": [
      "                                me again and again and youre  like  something that god has sent me\n",
      "                                  love look up in the mirror  like  damn she the one and she\n",
      "                                  you along but ima love you  like  a fool breathe you in till\n",
      "                        afternoon he likes my american smile  like  a child when our eyes meet\n",
      "                               small nudge and ill be flying  like  a thousand doves a thousand dooooooves\n",
      "                                     a world like that we go  like  up til im sleep on your\n",
      "                              up my frame shes not developed  like  we are like magic like magic\n",
      "                                       own i could lie say i  like  it like that like it like\n",
      "                         you never wanna meet a motherfucker  like  me i see the light i\n",
      "                                 eyes shining just the way i  like  if youre feeling like you need\n",
      "                              magic new magic new magic wand  like  magic like magic like magic gone\n",
      "                                 crown look up in the mirror  like  damn she the one one one\n",
      "                                        want it i got it you  like  my hair gee thanks just bought\n",
      "                                   yeah yeah go and throw it  like  a girl hangin out the 750\n",
      "                                     could lie say i like it  like  that like it like that i\n",
      "                                        bought it i see it i  like  it i want it i got\n",
      "                                      of the car and i cried  like  a baby coming home from the\n",
      "                                   yeah yeah yeah my love is  like  a rocket watch it blast off\n",
      "                                dont leave me now dont leave  like  magic like magic like magic gone\n",
      "                                you but aint nobody love you  like  i do promise that i will\n"
     ]
    }
   ],
   "source": [
    "print_kwic(sort_kwic(like_pop_sample))"
   ]
  },
  {
   "cell_type": "markdown",
   "metadata": {},
   "source": [
    "The word \"like\" is used in a fairly similar way in both pop and hyperpop. \"Like\" is used either as a simile (\"I cried like a baby\" or \"god made me like adam\") or as a refernce to the feeling of liking someone or something (\"eyes shining just the way that I like\" or \"you like to hear me say it\")."
   ]
  },
  {
   "cell_type": "markdown",
   "metadata": {},
   "source": [
    "### KWIC Analysis of \"Want\"\n",
    "\n",
    "The code below does a KWIC analysis of the word \"want\" in hyperpop and pop music. This keyword was chosen because \"want\" occurs more in hyperpop. I thought it would also be interesting to compare the wants of singers from different genres."
   ]
  },
  {
   "cell_type": "code",
   "execution_count": 32,
   "metadata": {},
   "outputs": [
    {
     "name": "stdout",
     "output_type": "stream",
     "text": [
      "                                    like i used to first you  want  me then you change your mind\n",
      "                                   basis its not like that i  want  you on the edge dont relax\n",
      "                                   dont want your man i dont  want  your i dont want your man\n",
      "                                    know you lie what do you  want  tell me tell me tell me\n",
      "                                 what i want like click they  want  a pic like click cheers with\n",
      "                                   dont want your man i dont  want  youri been fuckin models i been\n",
      "                                       to like me want you i  want  you i want you to like\n",
      "                                    in this sitch get what i  want  like click they want a pic\n",
      "                                 tryna steal your man i dont  want  him girl i dont think you\n",
      "                                     even after i get what i  want  i can see baby baby that\n",
      "                                  can make you feel like you  want  to i can make you feel\n",
      "                                   i dont want your man dont  want  your man i dont want your\n",
      "                                dont think i can handle this  want  you to taste it cause its\n",
      "                                 sugar and cherry boy if you  want  me come get above me i\n",
      "                                  iiim just that tall i dont  want  to haunt you you i swear\n",
      "                                       i just want to i just  want  to stay around and while my\n",
      "                                     i dont want your i dont  want  your man i dont want your\n",
      "                                 bitch in the streets when i  want  yeah you can holla me back\n",
      "                                 what i want like click they  want  a pic like click cheers with\n",
      "                                     you you say the words i  want  to hear you hold my hand\n"
     ]
    }
   ],
   "source": [
    "want_hyperpop = make_kwic('want', hyperpop_lyrics, win=6)\n",
    "want_pop = make_kwic('want', pop_lyrics, win=6)\n",
    "\n",
    "\n",
    "want_pop_sample = random.sample(want_pop,20)\n",
    "want_hyperpop_sample = random.sample(want_hyperpop,20)\n",
    "\n",
    "print_kwic(sort_kwic(want_hyperpop_sample))"
   ]
  },
  {
   "cell_type": "code",
   "execution_count": 33,
   "metadata": {},
   "outputs": [
    {
     "name": "stdout",
     "output_type": "stream",
     "text": [
      "                                     want when i wanna and i  want  ya bad bad news one of\n",
      "                                     later nah i cant i dont  want  to end this season on a\n",
      "                                  soul he got my heartbeat i  want  you bless my skipping down 16th\n",
      "                      the moment and all these motherfuckers  want  a relapse i only call you\n",
      "                                     but i know whats up you  want  a real taste at least im\n",
      "                                want your stupid love love i  want  your stupid love love ohohoh ohohoh\n",
      "                          oh ohohoh ohohoh ohoh ohohohohoh i  want  your stupid love love ohohoh ohohoh\n",
      "                                   dreams oh youre the one i  want  i want to drive away with\n",
      "                                   could say im hatin if you  want  to but i only hate on\n",
      "                            skipping down 16th avenue baby i  want  you bless my i want you\n",
      "                           like meee yeah oohoohoohooh and i  want  ya baby im the only one\n",
      "                                    or leave it like uh dont  want  you in my bloodline yeah just\n",
      "                                        the one i want one i  want  youre the one i want one\n",
      "                                       i love you and i dont  want  to ooh up all night on\n",
      "                         sweetness take in the sweetness you  want  this you need this are you\n",
      "                                 but its what you became you  want  me to fix you but its\n",
      "                                          it i got it yeah i  want  it i got it i want\n",
      "                                          want it i got it i  want  it i got it i want\n",
      "                                          want it i got it i  want  it i got it i want\n",
      "                        love ohohoh ohohoh ohoh ohohohohoh i  want  your stupid love lovei didnt ask\n"
     ]
    }
   ],
   "source": [
    "print_kwic(sort_kwic(want_pop_sample))"
   ]
  },
  {
   "cell_type": "markdown",
   "metadata": {},
   "source": [
    "There is virtually no difference in how \"want\" is used in pop vs hyperpop. However, it seems like lyrics in hyperpop that use \"want\" are generally more intense than the pop music. For example, the most intense lyrics in the hyperpop example is \"i want you to get freaky\" and \"I want rock & rollers, I want rolling stoners\". There aren't any comparable lyrics in the pop KWIC analysis."
   ]
  },
  {
   "cell_type": "code",
   "execution_count": null,
   "metadata": {},
   "outputs": [],
   "source": []
  },
  {
   "cell_type": "code",
   "execution_count": null,
   "metadata": {},
   "outputs": [],
   "source": []
  }
 ],
 "metadata": {
  "kernelspec": {
   "display_name": "Python 3",
   "language": "python",
   "name": "python3"
  },
  "language_info": {
   "codemirror_mode": {
    "name": "ipython",
    "version": 3
   },
   "file_extension": ".py",
   "mimetype": "text/x-python",
   "name": "python",
   "nbconvert_exporter": "python",
   "pygments_lexer": "ipython3",
   "version": "3.7.3"
  }
 },
 "nbformat": 4,
 "nbformat_minor": 2
}
